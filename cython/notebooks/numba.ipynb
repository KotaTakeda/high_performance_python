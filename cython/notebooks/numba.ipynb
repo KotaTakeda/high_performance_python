{
 "cells": [
  {
   "cell_type": "markdown",
   "metadata": {},
   "source": [
    "# Numba jit\n",
    "`nb.njit`（`nb.jit`のnopythonモード）を使ってpythonコードを\"just in time\" compileで高速化する．\n",
    "\n",
    "## 参考\n",
    "- [array layout](https://stackoverflow.com/questions/66363148/in-numba-whats-the-difference-between-arrayfloat64-1d-c-and-arrayfloat64)"
   ]
  },
  {
   "cell_type": "code",
   "execution_count": 50,
   "metadata": {},
   "outputs": [],
   "source": [
    "import numba as nb\n",
    "import numpy as np"
   ]
  },
  {
   "cell_type": "code",
   "execution_count": 51,
   "metadata": {},
   "outputs": [],
   "source": [
    "def dot_loop(A, B):\n",
    "    assert A.shape[1] == B.shape[0]\n",
    "    L, M = A.shape\n",
    "    M, N = B.shape\n",
    "    C = np.zeros((L, N))\n",
    "    for i in range(L):\n",
    "        for j in range(N):\n",
    "            for k in range(M):\n",
    "                C[i, j] += A[i, k] * B[k, j]\n",
    "    return C\n",
    "\n",
    "@nb.njit\n",
    "def dot_loop_jit(A, B):\n",
    "    assert A.shape[1] == B.shape[0]\n",
    "    L, M = A.shape\n",
    "    M, N = B.shape\n",
    "    C = np.zeros((L, N))\n",
    "    for i in range(L):\n",
    "        for j in range(N):\n",
    "            for k in range(M):\n",
    "                C[i, j] += A[i, k] * B[k, j]\n",
    "    return C"
   ]
  },
  {
   "cell_type": "code",
   "execution_count": 52,
   "metadata": {},
   "outputs": [
    {
     "data": {
      "text/plain": [
       "array([[100., 100., 100., ..., 100., 100., 100.],\n",
       "       [100., 100., 100., ..., 100., 100., 100.],\n",
       "       [100., 100., 100., ..., 100., 100., 100.],\n",
       "       ...,\n",
       "       [100., 100., 100., ..., 100., 100., 100.],\n",
       "       [100., 100., 100., ..., 100., 100., 100.],\n",
       "       [100., 100., 100., ..., 100., 100., 100.]])"
      ]
     },
     "execution_count": 52,
     "metadata": {},
     "output_type": "execute_result"
    }
   ],
   "source": [
    "L, M, N = 200, 100, 200\n",
    "A = np.ones((L, M))\n",
    "B = np.ones((M, N))\n",
    "dot_loop(A, B)"
   ]
  },
  {
   "cell_type": "code",
   "execution_count": 69,
   "metadata": {},
   "outputs": [
    {
     "data": {
      "text/plain": [
       "array([[100., 100., 100., ..., 100., 100., 100.],\n",
       "       [100., 100., 100., ..., 100., 100., 100.],\n",
       "       [100., 100., 100., ..., 100., 100., 100.],\n",
       "       ...,\n",
       "       [100., 100., 100., ..., 100., 100., 100.],\n",
       "       [100., 100., 100., ..., 100., 100., 100.],\n",
       "       [100., 100., 100., ..., 100., 100., 100.]])"
      ]
     },
     "execution_count": 69,
     "metadata": {},
     "output_type": "execute_result"
    }
   ],
   "source": [
    "L, M, N = 200, 100, 200\n",
    "A = np.ones((L, M))\n",
    "B = np.ones((M, N))\n",
    "dot_loop_jit(A, B)"
   ]
  },
  {
   "cell_type": "markdown",
   "metadata": {},
   "source": [
    "型指定とメモリアクセス"
   ]
  },
  {
   "cell_type": "code",
   "execution_count": 54,
   "metadata": {},
   "outputs": [],
   "source": [
    "N=1000"
   ]
  },
  {
   "cell_type": "code",
   "execution_count": 55,
   "metadata": {},
   "outputs": [
    {
     "name": "stderr",
     "output_type": "stream",
     "text": [
      "/var/folders/vk/9f_3w5mx1_qg1246g_kww40c0000gn/T/ipykernel_25495/3705367558.py:6: NumbaPerformanceWarning: '@' is faster on contiguous arrays, called on (array(float64, 1d, A), array(float64, 1d, A))\n",
      "  return a @ b\n",
      "/Users/sakajolabtakeda/Locals/code/high_performance_python/.venv/lib/python3.9/site-packages/numba/core/typing/npydecl.py:965: NumbaPerformanceWarning: '@' is faster on contiguous arrays, called on (array(float64, 1d, A), array(float64, 1d, A))\n",
      "  warnings.warn(NumbaPerformanceWarning(msg))\n"
     ]
    }
   ],
   "source": [
    "def dot(a, b):\n",
    "    return a @ b\n",
    "\n",
    "@nb.njit(\"f8(f8[:],f8[:])\", cache=True)\n",
    "def dot_jit(a, b):\n",
    "    return a @ b\n",
    "\n",
    "c_vector = nb.types.Array(dtype=nb.f8, ndim=1, layout=\"C\")\n",
    "\n",
    "@nb.njit(nb.f8(c_vector, c_vector), cache=True)\n",
    "def dot_jit_type(a, b):\n",
    "    return a @ b"
   ]
  },
  {
   "cell_type": "code",
   "execution_count": 56,
   "metadata": {},
   "outputs": [
    {
     "name": "stdout",
     "output_type": "stream",
     "text": [
      "15.6 µs ± 1.61 µs per loop (mean ± std. dev. of 7 runs, 100,000 loops each)\n"
     ]
    }
   ],
   "source": [
    "%%timeit\n",
    "a = np.ones(N)\n",
    "b = np.ones(N)\n",
    "_ = dot(a, b)"
   ]
  },
  {
   "cell_type": "code",
   "execution_count": 57,
   "metadata": {},
   "outputs": [
    {
     "name": "stdout",
     "output_type": "stream",
     "text": [
      "25.1 µs ± 1.7 µs per loop (mean ± std. dev. of 7 runs, 10,000 loops each)\n"
     ]
    }
   ],
   "source": [
    "%%timeit\n",
    "a = np.ones(N)\n",
    "b = np.ones(N)\n",
    "_ = dot_jit(a, b)"
   ]
  },
  {
   "cell_type": "code",
   "execution_count": 58,
   "metadata": {},
   "outputs": [
    {
     "name": "stdout",
     "output_type": "stream",
     "text": [
      "12.8 µs ± 678 ns per loop (mean ± std. dev. of 7 runs, 100,000 loops each)\n"
     ]
    }
   ],
   "source": [
    "%%timeit\n",
    "a = np.ones(N)\n",
    "b = np.ones(N)\n",
    "_ = dot_jit_type(a, b)"
   ]
  },
  {
   "cell_type": "markdown",
   "metadata": {},
   "source": [
    "### 2dim"
   ]
  },
  {
   "cell_type": "code",
   "execution_count": 59,
   "metadata": {},
   "outputs": [],
   "source": [
    "def dot2(a, b):\n",
    "    return a @ b\n",
    "\n",
    "@nb.njit(\"f8[:,:](f8[:,:],f8[:,:])\", cache=True)\n",
    "def dot2_jit(a, b):\n",
    "    return a @ b\n",
    "\n",
    "c_vector = nb.types.Array(dtype=nb.f8, ndim=2, layout=\"C\")\n",
    "\n",
    "@nb.njit(c_vector(c_vector, c_vector), cache=True)\n",
    "def dot2_jit_type(a, b):\n",
    "    return a @ b"
   ]
  },
  {
   "cell_type": "code",
   "execution_count": 60,
   "metadata": {},
   "outputs": [
    {
     "name": "stdout",
     "output_type": "stream",
     "text": [
      "True\n",
      "True\n"
     ]
    }
   ],
   "source": [
    "N = 1000\n",
    "a = np.ascontiguousarray(np.ones((N, N)))\n",
    "b = np.ascontiguousarray(np.ones((N, N)))\n",
    "print(a.data.c_contiguous)\n",
    "print(b.data.c_contiguous)\n",
    "_ = dot2(a, b)"
   ]
  },
  {
   "cell_type": "code",
   "execution_count": 61,
   "metadata": {},
   "outputs": [
    {
     "name": "stdout",
     "output_type": "stream",
     "text": [
      "True\n",
      "True\n"
     ]
    }
   ],
   "source": [
    "N = 1000\n",
    "a = np.ascontiguousarray(np.ones((N, N)))\n",
    "b = np.ascontiguousarray(np.ones((N, N)))\n",
    "print(a.data.c_contiguous)\n",
    "print(b.data.c_contiguous)\n",
    "_ = dot2_jit(a, b)"
   ]
  },
  {
   "cell_type": "code",
   "execution_count": 62,
   "metadata": {},
   "outputs": [
    {
     "name": "stdout",
     "output_type": "stream",
     "text": [
      "True\n",
      "True\n"
     ]
    }
   ],
   "source": [
    "N = 1000\n",
    "a = np.ascontiguousarray(np.ones((N, N)))\n",
    "b = np.ascontiguousarray(np.ones((N, N)))\n",
    "print(a.data.c_contiguous)\n",
    "print(b.data.c_contiguous)\n",
    "_ = dot2_jit_type(a, b)"
   ]
  },
  {
   "cell_type": "markdown",
   "metadata": {},
   "source": [
    "並列化とprange"
   ]
  },
  {
   "cell_type": "code",
   "execution_count": 64,
   "metadata": {},
   "outputs": [],
   "source": [
    "def dot_loop(A, B):\n",
    "    assert A.shape[1] == B.shape[0]\n",
    "    L, M = A.shape\n",
    "    M, N = B.shape\n",
    "    C = np.zeros((L, N))\n",
    "    for i in range(L):\n",
    "        for j in range(N):\n",
    "            for k in range(M):\n",
    "                C[i, j] += A[i, k] * B[k, j]\n",
    "    return C\n",
    "\n",
    "@nb.njit\n",
    "def dot_loop_jit(A, B):\n",
    "    assert A.shape[1] == B.shape[0]\n",
    "    L, M = A.shape\n",
    "    M, N = B.shape\n",
    "    C = np.zeros((L, N))\n",
    "    for i in range(L):\n",
    "        for j in range(N):\n",
    "            for k in range(M):\n",
    "                C[i, j] += A[i, k] * B[k, j]\n",
    "    return C\n",
    "\n",
    "@nb.njit(parallel=True)\n",
    "def dot_loop_jit_prange(A, B):\n",
    "    assert A.shape[1] == B.shape[0]\n",
    "    L, M = A.shape\n",
    "    M, N = B.shape\n",
    "    C = np.zeros((L, N))\n",
    "    for i in nb.prange(L):\n",
    "        for j in nb.prange(N):\n",
    "            for k in nb.prange(M):\n",
    "                C[i, j] += A[i, k] * B[k, j]\n",
    "    return C"
   ]
  },
  {
   "cell_type": "code",
   "execution_count": 71,
   "metadata": {},
   "outputs": [
    {
     "data": {
      "text/plain": [
       "array([[100., 100., 100., ..., 100., 100., 100.],\n",
       "       [100., 100., 100., ..., 100., 100., 100.],\n",
       "       [100., 100., 100., ..., 100., 100., 100.],\n",
       "       ...,\n",
       "       [100., 100., 100., ..., 100., 100., 100.],\n",
       "       [100., 100., 100., ..., 100., 100., 100.],\n",
       "       [100., 100., 100., ..., 100., 100., 100.]])"
      ]
     },
     "execution_count": 71,
     "metadata": {},
     "output_type": "execute_result"
    }
   ],
   "source": [
    "L, M, N = 200, 100, 200\n",
    "A = np.ones((L, M))\n",
    "B = np.ones((M, N))\n",
    "dot_loop_jit_prange(A, B)"
   ]
  },
  {
   "cell_type": "code",
   "execution_count": null,
   "metadata": {},
   "outputs": [],
   "source": []
  }
 ],
 "metadata": {
  "kernelspec": {
   "display_name": "Python 3.9.6 ('.venv': venv)",
   "language": "python",
   "name": "python3"
  },
  "language_info": {
   "codemirror_mode": {
    "name": "ipython",
    "version": 3
   },
   "file_extension": ".py",
   "mimetype": "text/x-python",
   "name": "python",
   "nbconvert_exporter": "python",
   "pygments_lexer": "ipython3",
   "version": "3.9.6"
  },
  "orig_nbformat": 4,
  "vscode": {
   "interpreter": {
    "hash": "3a106c31e8be77d281b4053690e26885c26dac7209da20ab85d2e39076a72467"
   }
  }
 },
 "nbformat": 4,
 "nbformat_minor": 2
}
